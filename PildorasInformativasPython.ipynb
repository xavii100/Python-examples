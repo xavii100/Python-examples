{
  "nbformat": 4,
  "nbformat_minor": 0,
  "metadata": {
    "colab": {
      "name": "PildorasInformativasPython.ipynb",
      "provenance": [],
      "authorship_tag": "ABX9TyMYGZEJlu8yjcBkBlexrYz1",
      "include_colab_link": true
    },
    "kernelspec": {
      "name": "python3",
      "display_name": "Python 3"
    }
  },
  "cells": [
    {
      "cell_type": "markdown",
      "metadata": {
        "id": "view-in-github",
        "colab_type": "text"
      },
      "source": [
        "<a href=\"https://colab.research.google.com/github/xavii100/Python-examples/blob/master/PildorasInformativasPython.ipynb\" target=\"_parent\"><img src=\"https://colab.research.google.com/assets/colab-badge.svg\" alt=\"Open In Colab\"/></a>"
      ]
    },
    {
      "cell_type": "markdown",
      "metadata": {
        "id": "JqB4OEj8BB_8"
      },
      "source": [
        "creado por Guido Van Rossum a comienzos de los 90s.\n"
      ]
    },
    {
      "cell_type": "markdown",
      "metadata": {
        "id": "E0RXSI5tBoKc"
      },
      "source": [
        "Tipado Dinamico ( En tiempo de ejecucion) y Fuerte(Puede diferenciar entre enteros y strings)."
      ]
    },
    {
      "cell_type": "markdown",
      "metadata": {
        "id": "1NSQSg2_B_jd"
      },
      "source": [
        "Lenguaje Orientado a Objetos y de alto nivel"
      ]
    },
    {
      "cell_type": "code",
      "metadata": {
        "id": "c5NLFkliA6Te"
      },
      "source": [
        "Tipado\n"
      ],
      "execution_count": null,
      "outputs": []
    }
  ]
}