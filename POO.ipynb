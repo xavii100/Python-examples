{
  "nbformat": 4,
  "nbformat_minor": 0,
  "metadata": {
    "kernelspec": {
      "display_name": "Python 3",
      "language": "python",
      "name": "python3"
    },
    "language_info": {
      "codemirror_mode": {
        "name": "ipython",
        "version": 3
      },
      "file_extension": ".py",
      "mimetype": "text/x-python",
      "name": "python",
      "nbconvert_exporter": "python",
      "pygments_lexer": "ipython3",
      "version": "3.8.6"
    },
    "colab": {
      "name": "POO.ipynb",
      "provenance": [],
      "include_colab_link": true
    }
  },
  "cells": [
    {
      "cell_type": "markdown",
      "metadata": {
        "id": "view-in-github",
        "colab_type": "text"
      },
      "source": [
        "<a href=\"https://colab.research.google.com/github/xavii100/Python-examples/blob/master/POO.ipynb\" target=\"_parent\"><img src=\"https://colab.research.google.com/assets/colab-badge.svg\" alt=\"Open In Colab\"/></a>"
      ]
    },
    {
      "cell_type": "markdown",
      "metadata": {
        "id": "5BOMXF8UzAZq"
      },
      "source": [
        "Programacion Orientada a Objetos\n",
        "\n",
        "init es el constructor que toda clase utiliza para inicializar los objetos, pueder no ir y cuando se ejecute se vera de manera implicita.\n",
        "\n",
        "El primer argumento del constructor puede ser cualquier nombre, ya sea self o s y sirve para hacer referencia a cada objeto que se instancie"
      ]
    },
    {
      "cell_type": "code",
      "metadata": {
        "id": "FIDeu3MpzAZx"
      },
      "source": [
        "class Ejemplo:\n",
        "    def __init__(s, p1, p2):\n",
        "        s.a1 = p1\n",
        "        s.a2 = p2"
      ],
      "execution_count": 1,
      "outputs": []
    },
    {
      "cell_type": "code",
      "metadata": {
        "id": "RsCvqf1XzAaN"
      },
      "source": [
        "ejem = Ejemplo('hola', 'javier')"
      ],
      "execution_count": 3,
      "outputs": []
    },
    {
      "cell_type": "code",
      "metadata": {
        "id": "qmJR21P1zAam",
        "outputId": "64b79e2e-a9ba-41ae-ec95-0539df85a1a2",
        "colab": {
          "base_uri": "https://localhost:8080/",
          "height": 35
        }
      },
      "source": [
        "ejem.a1\n",
        "ejem.a2\n",
        "ejem"
      ],
      "execution_count": 4,
      "outputs": [
        {
          "output_type": "execute_result",
          "data": {
            "text/plain": [
              "<__main__.Ejemplo at 0x7f8bc97d25f8>"
            ]
          },
          "metadata": {
            "tags": []
          },
          "execution_count": 4
        }
      ]
    },
    {
      "cell_type": "markdown",
      "metadata": {
        "id": "RXxet-TAzAa9"
      },
      "source": [
        "pyhton nos permite agregar atributos de forma dinamica, cosa que no hacen otros lenguajes"
      ]
    },
    {
      "cell_type": "code",
      "metadata": {
        "id": "5k8pkXMfzAbA"
      },
      "source": [
        "ejem.a1 = 'modificado'"
      ],
      "execution_count": null,
      "outputs": []
    },
    {
      "cell_type": "code",
      "metadata": {
        "id": "VX28WO9AzAbS",
        "outputId": "73022c51-4235-45c6-c283-7e9e60227175"
      },
      "source": [
        "ejem.a1"
      ],
      "execution_count": null,
      "outputs": [
        {
          "output_type": "execute_result",
          "data": {
            "text/plain": [
              "'modificado'"
            ]
          },
          "metadata": {
            "tags": []
          },
          "execution_count": 35
        }
      ]
    },
    {
      "cell_type": "code",
      "metadata": {
        "id": "iSg6tH8IzAbl",
        "outputId": "8649790b-895f-4f25-8ba3-e539487152d8"
      },
      "source": [
        "ejem.a3 = 'Agregacion de un atributo'\n",
        "ejem.a3"
      ],
      "execution_count": null,
      "outputs": [
        {
          "output_type": "execute_result",
          "data": {
            "text/plain": [
              "'Agregacion de un atributo'"
            ]
          },
          "metadata": {
            "tags": []
          },
          "execution_count": 36
        }
      ]
    },
    {
      "cell_type": "code",
      "metadata": {
        "id": "Zr3o0Dg8zAb1"
      },
      "source": [
        "class Gato:\n",
        "    especie = 'mamifero' #Atributo de clase\n",
        "    \n",
        "    def __init__(self, nombre, edad):\n",
        "        self.nombre = nombre\n",
        "        self.edad = edad\n",
        "        self.alimentos = []"
      ],
      "execution_count": null,
      "outputs": []
    },
    {
      "cell_type": "code",
      "metadata": {
        "id": "hv52mEe4zAcB"
      },
      "source": [
        "felix = Gato('Hanna',2)"
      ],
      "execution_count": null,
      "outputs": []
    },
    {
      "cell_type": "code",
      "metadata": {
        "id": "UFhniBL_zAcO",
        "outputId": "f186ebf4-e8b1-4f09-b26e-ceac550b7fd0"
      },
      "source": [
        "felix.edad\n",
        "felix.alimentos\n",
        "felix.raza = 'siames'\n",
        "felix.raza"
      ],
      "execution_count": null,
      "outputs": [
        {
          "output_type": "execute_result",
          "data": {
            "text/plain": [
              "2"
            ]
          },
          "metadata": {
            "tags": []
          },
          "execution_count": 45
        },
        {
          "output_type": "execute_result",
          "data": {
            "text/plain": [
              "[]"
            ]
          },
          "metadata": {
            "tags": []
          },
          "execution_count": 45
        },
        {
          "output_type": "execute_result",
          "data": {
            "text/plain": [
              "'siames'"
            ]
          },
          "metadata": {
            "tags": []
          },
          "execution_count": 45
        }
      ]
    },
    {
      "cell_type": "code",
      "metadata": {
        "id": "vXy-vj7RzAce",
        "outputId": "1d46637a-8c22-459f-dd57-d5959d6fcecd"
      },
      "source": [
        "benito = Gato('benito', 10)\n",
        "benito.nombre"
      ],
      "execution_count": null,
      "outputs": [
        {
          "output_type": "execute_result",
          "data": {
            "text/plain": [
              "'benito'"
            ]
          },
          "metadata": {
            "tags": []
          },
          "execution_count": 48
        }
      ]
    },
    {
      "cell_type": "code",
      "metadata": {
        "id": "em4P49jmzAcr",
        "outputId": "b970e675-b547-44d9-aff3-d1fc39c8aeb0"
      },
      "source": [
        "benito.edad"
      ],
      "execution_count": null,
      "outputs": [
        {
          "output_type": "execute_result",
          "data": {
            "text/plain": [
              "10"
            ]
          },
          "metadata": {
            "tags": []
          },
          "execution_count": 49
        }
      ]
    },
    {
      "cell_type": "markdown",
      "metadata": {
        "id": "IlPE2zbpzAc7"
      },
      "source": [
        "como el atributo de raza fue creado dinamicamente para el objeto Felix, entonces no puede ser leido por el objeto benito, ya que este solo tiene acceso a los atributos de instancia y de clase definido en la Clase.\n",
        "\n",
        "La relacion de objetos - atributos se almacena como un diccionario en memoria"
      ]
    },
    {
      "cell_type": "code",
      "metadata": {
        "scrolled": true,
        "id": "fi3VpskrzAc_",
        "outputId": "fc3c52c8-a1da-4462-a58c-34147047a54e"
      },
      "source": [
        "benito.raza"
      ],
      "execution_count": null,
      "outputs": [
        {
          "output_type": "error",
          "ename": "AttributeError",
          "evalue": "'Gato' object has no attribute 'raza'",
          "traceback": [
            "\u001b[1;31m---------------------------------------------------------------------------\u001b[0m",
            "\u001b[1;31mAttributeError\u001b[0m                            Traceback (most recent call last)",
            "\u001b[1;32m<ipython-input-50-6e253be8ce9c>\u001b[0m in \u001b[0;36m<module>\u001b[1;34m\u001b[0m\n\u001b[1;32m----> 1\u001b[1;33m \u001b[0mbenito\u001b[0m\u001b[1;33m.\u001b[0m\u001b[0mraza\u001b[0m\u001b[1;33m\u001b[0m\u001b[1;33m\u001b[0m\u001b[0m\n\u001b[0m",
            "\u001b[1;31mAttributeError\u001b[0m: 'Gato' object has no attribute 'raza'"
          ]
        }
      ]
    },
    {
      "cell_type": "code",
      "metadata": {
        "id": "5ORBBpp8zAdO"
      },
      "source": [
        "felix.alimentos.append('pescado')\n",
        "felix.alimentos.append('leche')"
      ],
      "execution_count": null,
      "outputs": []
    },
    {
      "cell_type": "code",
      "metadata": {
        "id": "bpV-vyWEzAdb",
        "outputId": "03bcf081-4bf9-4b69-d6e6-1b3729a3def4"
      },
      "source": [
        "felix.alimentos"
      ],
      "execution_count": null,
      "outputs": [
        {
          "output_type": "execute_result",
          "data": {
            "text/plain": [
              "['pescado', 'leche']"
            ]
          },
          "metadata": {
            "tags": []
          },
          "execution_count": 61
        }
      ]
    },
    {
      "cell_type": "code",
      "metadata": {
        "id": "s1kH5fYKzAdn"
      },
      "source": [
        "felix.alimentos = ['leche', 'galletas']"
      ],
      "execution_count": null,
      "outputs": []
    },
    {
      "cell_type": "code",
      "metadata": {
        "id": "HSm8uhTIzAd0",
        "outputId": "f124e052-8a07-4713-f2e9-bea4344ce476"
      },
      "source": [
        "felix.alimentos"
      ],
      "execution_count": null,
      "outputs": [
        {
          "output_type": "execute_result",
          "data": {
            "text/plain": [
              "['leche', 'galletas']"
            ]
          },
          "metadata": {
            "tags": []
          },
          "execution_count": 63
        }
      ]
    },
    {
      "cell_type": "code",
      "metadata": {
        "id": "rDAAcMZGzAd_"
      },
      "source": [
        "class Gato:\n",
        "    especie = 'mamifero' #Atributo de clase\n",
        "    \n",
        "    def __init__(self, nombre, edad):\n",
        "        self.nombre = nombre\n",
        "        self.edad = edad\n",
        "        self.alimentos = []\n",
        "        \n",
        "    def verEtapaDeVida(self):\n",
        "        if self.edad > 1:\n",
        "            print(self.nombre, ' Es Adulto.')\n",
        "        else:\n",
        "            print(self.nombre, ' Es Cachorro')\n",
        "            \n",
        "    def esAlimentoFavorito(self, alimento):\n",
        "        return alimento in self.alimentos"
      ],
      "execution_count": null,
      "outputs": []
    },
    {
      "cell_type": "code",
      "metadata": {
        "id": "k23Qi3dnzAeI"
      },
      "source": [
        "p = Gato('pelusa', 2)"
      ],
      "execution_count": null,
      "outputs": []
    },
    {
      "cell_type": "code",
      "metadata": {
        "id": "p_g9tC71zAeS",
        "outputId": "a9a5fbc9-92bc-4ae0-a2d5-44dddc9dc6e1"
      },
      "source": [
        "p.verEtapaDeVida()"
      ],
      "execution_count": null,
      "outputs": [
        {
          "output_type": "stream",
          "text": [
            "pelusa  Es Adulto.\n"
          ],
          "name": "stdout"
        }
      ]
    },
    {
      "cell_type": "code",
      "metadata": {
        "id": "OiaIA_nVzAeb",
        "outputId": "f78a04b7-ecc0-4bf8-8f70-932eb41ef7b0"
      },
      "source": [
        "Gato.especie"
      ],
      "execution_count": null,
      "outputs": [
        {
          "output_type": "execute_result",
          "data": {
            "text/plain": [
              "'mamifero'"
            ]
          },
          "metadata": {
            "tags": []
          },
          "execution_count": 71
        }
      ]
    },
    {
      "cell_type": "markdown",
      "metadata": {
        "id": "qBbCG6FEzAeq"
      },
      "source": [
        "Herencia\n",
        "\n",
        "La herencia multiple es cuando varias superclases heredan atributos a una subclase \n",
        "\n",
        "clase padre  -> superclase     ////      Clase hija -> Subclase\n",
        "\n",
        "si se tiene un metodo en la clase padre llamado mostrarDatos() y en la clase hija se tiene el mismo metodo mostrarDatos() pero implementado de manera diferente, cuando se cree un objeto de la clase hija el metodo que se tomara en cuenta va a ser el de la clase hija ya que al crearlo en la clase hija se reescribe ese metodo\n",
        "\n",
        "\n",
        "Una Clase abstracta nos indica que no se permiten hacer instancias de ella, se implementa con el modulo abc "
      ]
    },
    {
      "cell_type": "code",
      "metadata": {
        "id": "e9YQGWwmzAes"
      },
      "source": [
        "class Empleado:\n",
        "\n",
        "    def __init__(self, nombre, edad, legajo, sueldo):\n",
        "        self.nombre=nombre\n",
        "        self.edad=edad\n",
        "        self.legajo=legajo\n",
        "        self.sueldoBase=sueldo\n",
        "    \n",
        "    def calcularSueldo(self, descuentos, bonos):\n",
        "        return self.sueldoBase-descuentos+bonos\n",
        "    \n",
        "\n",
        "class AgenteVentas(Empleado):\n",
        "    #Reimplementación de método __init__ en la subclase\n",
        "    def __init__(self, mostrador):\n",
        "        self.numeroMostrador=mostrador"
      ],
      "execution_count": null,
      "outputs": []
    },
    {
      "cell_type": "code",
      "metadata": {
        "id": "tqzUpBubzAe0"
      },
      "source": [
        "pedro = AgenteVentas(4)"
      ],
      "execution_count": null,
      "outputs": []
    },
    {
      "cell_type": "code",
      "metadata": {
        "id": "PlFSRB-rzAe4",
        "outputId": "808652a6-6e18-4a77-ef84-2396db17002f"
      },
      "source": [
        "pedro.nombre # me marca error porque el metodo __init__ se modifico en la clase AgenteVentas"
      ],
      "execution_count": null,
      "outputs": [
        {
          "output_type": "error",
          "ename": "AttributeError",
          "evalue": "'AgenteVentas' object has no attribute 'nombre'",
          "traceback": [
            "\u001b[1;31m---------------------------------------------------------------------------\u001b[0m",
            "\u001b[1;31mAttributeError\u001b[0m                            Traceback (most recent call last)",
            "\u001b[1;32m<ipython-input-75-0c9c47357153>\u001b[0m in \u001b[0;36m<module>\u001b[1;34m\u001b[0m\n\u001b[1;32m----> 1\u001b[1;33m \u001b[0mpedro\u001b[0m\u001b[1;33m.\u001b[0m\u001b[0mnombre\u001b[0m\u001b[1;33m\u001b[0m\u001b[1;33m\u001b[0m\u001b[0m\n\u001b[0m",
            "\u001b[1;31mAttributeError\u001b[0m: 'AgenteVentas' object has no attribute 'nombre'"
          ]
        }
      ]
    },
    {
      "cell_type": "markdown",
      "metadata": {
        "id": "X0V05MJlzAe9"
      },
      "source": [
        "Si queremos que el metodo __init__ de la clase AgentyeVentas tome en consideracion el constructor de la clase Empleado se tiene que agregar la palabra super"
      ]
    },
    {
      "cell_type": "code",
      "metadata": {
        "id": "eRmsQzjtzAe-"
      },
      "source": [
        "class Empleado:\n",
        "\n",
        "    def __init__(self, nombre, edad, legajo, sueldo):\n",
        "        self.nombre=nombre\n",
        "        self.edad=edad\n",
        "        self.legajo=legajo\n",
        "        self.sueldoBase=sueldo\n",
        "    \n",
        "    def calcularSueldo(self, descuentos, bonos):\n",
        "        return self.sueldoBase-descuentos+bonos\n",
        "    \n",
        "\n",
        "class AgenteVentas(Empleado):\n",
        "    #Reimplementación de método __init__ en la subclase\n",
        "    def __init__(self, nombre, edad, legajo, sueldo, mostrador):\n",
        "        self.numeroMostrador=mostrador\n",
        "        super().__init__(nombre, edad, legajo, sueldo)"
      ],
      "execution_count": null,
      "outputs": []
    },
    {
      "cell_type": "code",
      "metadata": {
        "id": "WYWqui4vzAfD"
      },
      "source": [
        "#Instanciar objeto de subclase\n",
        "pedro=AgenteVentas(\"Pedro Martinez\", 32, \"A120\", 55000, 4)"
      ],
      "execution_count": null,
      "outputs": []
    },
    {
      "cell_type": "code",
      "metadata": {
        "id": "ZL4j2PiNzAfI",
        "outputId": "942c1c44-9e86-460a-d788-07a0a066ba20"
      },
      "source": [
        "pedro.nombre\n",
        "pedro.calcularSueldo(100, 3000)"
      ],
      "execution_count": null,
      "outputs": [
        {
          "output_type": "execute_result",
          "data": {
            "text/plain": [
              "'Pedro Martinez'"
            ]
          },
          "metadata": {
            "tags": []
          },
          "execution_count": 83
        },
        {
          "output_type": "execute_result",
          "data": {
            "text/plain": [
              "57900"
            ]
          },
          "metadata": {
            "tags": []
          },
          "execution_count": 83
        }
      ]
    },
    {
      "cell_type": "code",
      "metadata": {
        "id": "afYL3RbhzAfN"
      },
      "source": [
        "class Tripulante(Empleado): # en este caso, esta clase utiliza el contructor de empleado\n",
        "    def mostrarRenovacionLicencia(dummy):\n",
        "        if dummy.edad < 50:\n",
        "            print(\"Renueva su licencia cada 1 año\")\n",
        "        else:\n",
        "            print(\"Renueva su licencia cada 6 meses\")"
      ],
      "execution_count": null,
      "outputs": []
    },
    {
      "cell_type": "code",
      "metadata": {
        "id": "uHafQPeKzAfQ",
        "outputId": "9c4f2a73-9f45-4043-c9c4-d09cc343ffb3"
      },
      "source": [
        "lucas=Tripulante(\"Lucas Gutierrez\", 40, \"H618\", 60000)\n",
        "lucas.mostrarRenovacionLicencia()"
      ],
      "execution_count": null,
      "outputs": [
        {
          "output_type": "stream",
          "text": [
            "Renueva su licencia cada 1 año\n"
          ],
          "name": "stdout"
        }
      ]
    },
    {
      "cell_type": "markdown",
      "metadata": {
        "id": "5a2wKRJozAfU"
      },
      "source": [
        "Encapsulamiento\n",
        "\n",
        "nos ayuda a definir corrctamente los objetos. A que dentro de la clase tengamos todos los atributos y los metodos necesarios\n",
        "y que no incluyamos atr o metod que correspondan a otra clase o que no nos falte alguno\n",
        "\n",
        "nos ayuda tambien a tener un bajo acoplamiento. El acoplamiento es la medida en la que un objeto depende de otro. La medida en lña que los objetos modifican el estado de otros objtos, siempre se intenta tener un acoplamiento bajo por buenas practicas de programacion. \n"
      ]
    },
    {
      "cell_type": "markdown",
      "metadata": {
        "id": "DEYhNdomzAfV"
      },
      "source": [
        "Ocultamiento\n",
        "\n",
        "se ocultan atributos y metodos que solo se van a utilizar dentro de la propia clase y no desde otros objetos.\n",
        "Permite esconder detalles de implementacion de los datos.\n",
        "Evita accesos a los datos de forma accidental o indebida."
      ]
    },
    {
      "cell_type": "code",
      "metadata": {
        "id": "Rs1DsYtAzAfW"
      },
      "source": [
        "class Carrera:\n",
        "    def __init__(self, nombre):\n",
        "        self.nombre=nombre\n",
        "        self.materias={}\n",
        "     \n",
        "    #Ocultar la implementación de una colección implementando un método propio para agregar elementos\n",
        "    def agregarMateria(self, materia, codigo):\n",
        "        self.materias[codigo]=materia\n",
        "\n",
        "class Materia:\n",
        "    def __init__(self, nombre, profesor):\n",
        "        self.nombre=nombre\n",
        "        self.profesor=profesor\n",
        "    \n",
        "ing=Carrera(\"Ingeniería\")\n",
        "algebra=Materia(\"Álgebra\", \"Ricardo Quinteros\")\n",
        "fisica=Materia(\"Física\", \"Margarita Gomez\")\n",
        "quimica=Materia(\"Química\", \"Lorena Ríos\")\n"
      ],
      "execution_count": null,
      "outputs": []
    },
    {
      "cell_type": "code",
      "metadata": {
        "id": "-Pe-FsrUzAfa",
        "outputId": "d8124367-de12-4860-8242-16e9cd274ed9"
      },
      "source": [
        "ing.materias.append((134,algebra))"
      ],
      "execution_count": null,
      "outputs": [
        {
          "output_type": "error",
          "ename": "AttributeError",
          "evalue": "'dict' object has no attribute 'append'",
          "traceback": [
            "\u001b[1;31m---------------------------------------------------------------------------\u001b[0m",
            "\u001b[1;31mAttributeError\u001b[0m                            Traceback (most recent call last)",
            "\u001b[1;32m<ipython-input-96-831a0276eaa5>\u001b[0m in \u001b[0;36m<module>\u001b[1;34m\u001b[0m\n\u001b[1;32m----> 1\u001b[1;33m \u001b[0ming\u001b[0m\u001b[1;33m.\u001b[0m\u001b[0mmaterias\u001b[0m\u001b[1;33m.\u001b[0m\u001b[0mappend\u001b[0m\u001b[1;33m(\u001b[0m\u001b[1;33m(\u001b[0m\u001b[1;36m134\u001b[0m\u001b[1;33m,\u001b[0m\u001b[0malgebra\u001b[0m\u001b[1;33m)\u001b[0m\u001b[1;33m)\u001b[0m\u001b[1;33m\u001b[0m\u001b[1;33m\u001b[0m\u001b[0m\n\u001b[0m",
            "\u001b[1;31mAttributeError\u001b[0m: 'dict' object has no attribute 'append'"
          ]
        }
      ]
    },
    {
      "cell_type": "code",
      "metadata": {
        "id": "W7g51NzEzAfd"
      },
      "source": [
        "ing.agregarMateria(algebra,134)"
      ],
      "execution_count": null,
      "outputs": []
    },
    {
      "cell_type": "code",
      "metadata": {
        "id": "6pPWp9L4zAfi",
        "outputId": "e5d982fb-18eb-4f76-8c98-3ccca0f1f1a4"
      },
      "source": [
        "ing.materias"
      ],
      "execution_count": null,
      "outputs": [
        {
          "output_type": "execute_result",
          "data": {
            "text/plain": [
              "{134: <__main__.Materia at 0x20cb0e80e50>}"
            ]
          },
          "metadata": {
            "tags": []
          },
          "execution_count": 102
        }
      ]
    },
    {
      "cell_type": "markdown",
      "metadata": {
        "id": "4_6dotjDzAfl"
      },
      "source": [
        "    Metodos getters y setters no se utilizan mucho en Python. En su lugar se utilizan las \"Properties\" que son las que definen a un objeto"
      ]
    },
    {
      "cell_type": "code",
      "metadata": {
        "id": "4rUbtSSezAfm"
      },
      "source": [
        "class Carrera:\n",
        "    def __init__(self, nombre):\n",
        "        self.nombre=nombre\n",
        "        self.materias={}\n",
        "     \n",
        "    #Ocultar la implementación de una colección implementando un método propio para agregar elementos\n",
        "    def agregarMateria(self, materia, codigo):\n",
        "        self.materias[codigo]=materia\n",
        "\n",
        "class Materia:\n",
        "    def __init__(self, nombre, profesor, fecha):\n",
        "        self.nombre=nombre\n",
        "        self.profesor=profesor\n",
        "        self.fechaInicioDictado=fecha  #no puede ser anterior a 2006\n",
        "        \n",
        "    @property #enmascara o envuelve al atributo\n",
        "    def fechaInicioDictado(self): #debe de tener el mismo nombre del atributo\n",
        "        print(\"Se está accediendo mediante property\")\n",
        "        return self._fechaInicioDictado # el _ indica que esta protegido o oculto de cierta manera, esto quiere decir que el atributo fechaInicioDictado\n",
        "    # no va a retornar luego luego el el valor, sino que parasa por la validacion del metodo def fechaInicioDictado(self,fecha)\n",
        "    \n",
        "    @fechaInicioDictado.setter\n",
        "    def fechaInicioDictado(self, fecha):\n",
        "        if fecha<2006:\n",
        "            self._fechaInicioDictado=2006\n",
        "        else:\n",
        "            self._fechaInicioDictado=fecha\n",
        "    \n",
        "    \n",
        "    \n",
        "ing=Carrera(\"Ingeniería\")\n",
        "algebra=Materia(\"Álgebra\", \"Ricardo Quinteros\", 2010)\n"
      ],
      "execution_count": null,
      "outputs": []
    },
    {
      "cell_type": "code",
      "metadata": {
        "id": "V2KtB_E0zAfq",
        "outputId": "0c293b90-2aee-4af3-8747-fddfc2303c75"
      },
      "source": [
        "algebra.fechaInicioDictado"
      ],
      "execution_count": null,
      "outputs": [
        {
          "output_type": "stream",
          "text": [
            "Se está accediendo mediante property\n"
          ],
          "name": "stdout"
        },
        {
          "output_type": "execute_result",
          "data": {
            "text/plain": [
              "2010"
            ]
          },
          "metadata": {
            "tags": []
          },
          "execution_count": 128
        }
      ]
    },
    {
      "cell_type": "markdown",
      "metadata": {
        "id": "t_rk7i6fzAfv"
      },
      "source": [
        "tercera forma de ocultamiento"
      ]
    },
    {
      "cell_type": "code",
      "metadata": {
        "id": "C4vJPtlMzAfz",
        "outputId": "2b721425-6b49-4951-e29c-b3f06c4e24b4"
      },
      "source": [
        "###-----------------------------\n",
        "###Ejemplo: ocultamiento de atributos\n",
        "###-----------------------------\n",
        "\n",
        "#Ejemplo en que se accede a un atributo público y se crea una nueva referencia a él\n",
        "copia=ing.materias\n",
        "print(len(ing.materias))\n",
        "\n",
        "#Mediante la nueva referencia, se modifica la colección contenida en el objeto\n",
        "copia[999]=quimica\n",
        "print(len(ing.materias))\n",
        "\n"
      ],
      "execution_count": null,
      "outputs": [
        {
          "output_type": "stream",
          "text": [
            "0\n",
            "1\n"
          ],
          "name": "stdout"
        }
      ]
    },
    {
      "cell_type": "code",
      "metadata": {
        "id": "cQVSQXMuzAf3",
        "outputId": "56e37bbb-7445-4caa-c3f7-df465845d126"
      },
      "source": [
        "class Carrera:\n",
        "    def __init__(self, nombre):\n",
        "        self.nombre=nombre\n",
        "        #Atributo oculto\n",
        "        self.__materias={}\n",
        "     \n",
        "    def agregarMateria(self, materia, codigo):\n",
        "        self.__materias[codigo]=materia\n",
        " \n",
        "#El atributo es inaccesible mediante su nombre \n",
        "copia=ing.__materias #internamente python lo renombro, para reaolverlo tendriamos que poner un setter"
      ],
      "execution_count": null,
      "outputs": [
        {
          "output_type": "error",
          "ename": "AttributeError",
          "evalue": "'Carrera' object has no attribute '__materias'",
          "traceback": [
            "\u001b[1;31m---------------------------------------------------------------------------\u001b[0m",
            "\u001b[1;31mAttributeError\u001b[0m                            Traceback (most recent call last)",
            "\u001b[1;32m<ipython-input-137-17b3721e099a>\u001b[0m in \u001b[0;36m<module>\u001b[1;34m\u001b[0m\n\u001b[0;32m      9\u001b[0m \u001b[1;33m\u001b[0m\u001b[0m\n\u001b[0;32m     10\u001b[0m \u001b[1;31m#El atributo es inaccesible mediante su nombre\u001b[0m\u001b[1;33m\u001b[0m\u001b[1;33m\u001b[0m\u001b[1;33m\u001b[0m\u001b[0m\n\u001b[1;32m---> 11\u001b[1;33m \u001b[0mcopia\u001b[0m\u001b[1;33m=\u001b[0m\u001b[0ming\u001b[0m\u001b[1;33m.\u001b[0m\u001b[0m__materias\u001b[0m\u001b[1;33m\u001b[0m\u001b[1;33m\u001b[0m\u001b[0m\n\u001b[0m",
            "\u001b[1;31mAttributeError\u001b[0m: 'Carrera' object has no attribute '__materias'"
          ]
        }
      ]
    },
    {
      "cell_type": "markdown",
      "metadata": {
        "id": "rKjjKZRGzAf7"
      },
      "source": [
        "La Abstraccion\n",
        "\n",
        "oculta la complejidad de los algoritmos o de ciertas funcionalidades u operaciones.\n",
        "Provee una interfaz simplificada que solo revela lo necesario para su uso."
      ]
    },
    {
      "cell_type": "markdown",
      "metadata": {
        "id": "lb-3ox6CzAf8"
      },
      "source": [
        " Polimorfismo\n",
        " \n",
        " Un mismo objeto puede tomar varias formas heredando de una superclase. Un metodo puede reimplementarse en una subclase o puede reescribirsecon distintos parametros y valor de retorno"
      ]
    },
    {
      "cell_type": "code",
      "metadata": {
        "id": "k89GkPpdzAf9"
      },
      "source": [
        "#Sobrecarga de método con valor por defecto\n",
        "class Empleado:\n",
        "    def __init__(self, nombre, legajo, sueldo):\n",
        "        self.nombre=nombre\n",
        "        self.legajo=legajo\n",
        "        self.sueldoBruto=sueldo\n",
        "\n",
        "    def calcularSueldo(self, descuentos):\n",
        "        return self.sueldoBruto-descuentos\n",
        "\n",
        "class Gerente(Empleado):\n",
        "    def calcularSueldo(self, descuentos, bonificaciones=0): ## Estoy forzando a las bonificaciones a tener un valor por defecto\n",
        "        return self.sueldoBruto-descuentos+bonificaciones\n",
        "\n",
        "marcos=Empleado(\"Marcos Ríos\", 200, 6000)\n",
        "julia=Gerente(\"Julia Campos\", 200, 6000)"
      ],
      "execution_count": null,
      "outputs": []
    },
    {
      "cell_type": "code",
      "metadata": {
        "id": "h6YljyMWzAgA",
        "outputId": "337c3b1c-1db8-4714-baf5-6baa5af455a4"
      },
      "source": [
        "julia.calcularSueldo(100)"
      ],
      "execution_count": null,
      "outputs": [
        {
          "output_type": "execute_result",
          "data": {
            "text/plain": [
              "5900"
            ]
          },
          "metadata": {
            "tags": []
          },
          "execution_count": 151
        }
      ]
    },
    {
      "cell_type": "code",
      "metadata": {
        "id": "-YW3hjU7zAgD",
        "outputId": "3651db0e-a4d4-4144-d788-70f593447d4f"
      },
      "source": [
        "marcos.calcularSueldo(100)"
      ],
      "execution_count": null,
      "outputs": [
        {
          "output_type": "execute_result",
          "data": {
            "text/plain": [
              "5900"
            ]
          },
          "metadata": {
            "tags": []
          },
          "execution_count": 153
        }
      ]
    }
  ]
}